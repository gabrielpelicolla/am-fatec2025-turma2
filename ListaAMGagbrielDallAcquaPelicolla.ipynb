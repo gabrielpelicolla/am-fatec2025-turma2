{
  "nbformat": 4,
  "nbformat_minor": 0,
  "metadata": {
    "colab": {
      "provenance": [],
      "authorship_tag": "ABX9TyMq1WiieZhDPGTsCUPYLAaF",
      "include_colab_link": true
    },
    "kernelspec": {
      "name": "python3",
      "display_name": "Python 3"
    },
    "language_info": {
      "name": "python"
    }
  },
  "cells": [
    {
      "cell_type": "markdown",
      "metadata": {
        "id": "view-in-github",
        "colab_type": "text"
      },
      "source": [
        "<a href=\"https://colab.research.google.com/github/gabrielpelicolla/am-fatec2025-turma2/blob/main/ListaAMGagbrielDallAcquaPelicolla.ipynb\" target=\"_parent\"><img src=\"https://colab.research.google.com/assets/colab-badge.svg\" alt=\"Open In Colab\"/></a>"
      ]
    },
    {
      "cell_type": "markdown",
      "source": [
        "#Lista Exercícos Aprendizagem de Máquinas Gabriel Pelícolla"
      ],
      "metadata": {
        "id": "dgQSCl_G_UQl"
      }
    },
    {
      "cell_type": "markdown",
      "source": [
        "##Importação das Bibliotecas"
      ],
      "metadata": {
        "id": "GZDSQ7QSAd1k"
      }
    },
    {
      "cell_type": "code",
      "source": [
        "!pip install plotly --upgrade\n",
        "!pip install squarify --upgrade"
      ],
      "metadata": {
        "colab": {
          "base_uri": "https://localhost:8080/"
        },
        "id": "GiKfuK2lAcDP",
        "outputId": "19ccc582-9b2e-4322-db66-406e712ea8cf"
      },
      "execution_count": 1,
      "outputs": [
        {
          "output_type": "stream",
          "name": "stdout",
          "text": [
            "Requirement already satisfied: plotly in /usr/local/lib/python3.11/dist-packages (5.24.1)\n",
            "Collecting plotly\n",
            "  Downloading plotly-6.0.1-py3-none-any.whl.metadata (6.7 kB)\n",
            "Requirement already satisfied: narwhals>=1.15.1 in /usr/local/lib/python3.11/dist-packages (from plotly) (1.33.0)\n",
            "Requirement already satisfied: packaging in /usr/local/lib/python3.11/dist-packages (from plotly) (24.2)\n",
            "Downloading plotly-6.0.1-py3-none-any.whl (14.8 MB)\n",
            "\u001b[2K   \u001b[90m━━━━━━━━━━━━━━━━━━━━━━━━━━━━━━━━━━━━━━━━\u001b[0m \u001b[32m14.8/14.8 MB\u001b[0m \u001b[31m34.4 MB/s\u001b[0m eta \u001b[36m0:00:00\u001b[0m\n",
            "\u001b[?25hInstalling collected packages: plotly\n",
            "  Attempting uninstall: plotly\n",
            "    Found existing installation: plotly 5.24.1\n",
            "    Uninstalling plotly-5.24.1:\n",
            "      Successfully uninstalled plotly-5.24.1\n",
            "Successfully installed plotly-6.0.1\n",
            "Collecting squarify\n",
            "  Downloading squarify-0.4.4-py3-none-any.whl.metadata (600 bytes)\n",
            "Downloading squarify-0.4.4-py3-none-any.whl (4.1 kB)\n",
            "Installing collected packages: squarify\n",
            "Successfully installed squarify-0.4.4\n"
          ]
        }
      ]
    },
    {
      "cell_type": "code",
      "source": [
        "import pandas as pd\n",
        "import numpy as np\n",
        "import seaborn as sns\n",
        "import matplotlib.pyplot as plt\n",
        "import plotly.express as px\n",
        "import pickle"
      ],
      "metadata": {
        "id": "T9DGDHxDAi5M"
      },
      "execution_count": 2,
      "outputs": []
    },
    {
      "cell_type": "markdown",
      "source": [
        "##Problema 1: O Alerta de Incêndio na Biblioteca"
      ],
      "metadata": {
        "id": "dgOLHh1s_nwq"
      }
    },
    {
      "cell_type": "code",
      "execution_count": 5,
      "metadata": {
        "id": "V7rhUuO17ZHV"
      },
      "outputs": [],
      "source": [
        "pa = 0.005      # Probabilidade de incêndio\n",
        "pb = 0.95       # Probabilidade de alarme dado incêndio (sensibilidade)\n",
        "pf = 0.03       # Falso positivo"
      ]
    },
    {
      "cell_type": "code",
      "source": [
        "pab = (pa * pb) / ((pa * pb) + ((1 - pa) * pf))\n",
        "print(f'P(Incêndio|Alarme) = {pab * 100:.2f} %')"
      ],
      "metadata": {
        "colab": {
          "base_uri": "https://localhost:8080/"
        },
        "id": "iKJW0O0XAHcX",
        "outputId": "06a23334-dfc2-4707-eb25-55faaa7746f6"
      },
      "execution_count": 6,
      "outputs": [
        {
          "output_type": "stream",
          "name": "stdout",
          "text": [
            "P(Incêndio|Alarme) = 13.73 %\n"
          ]
        }
      ]
    },
    {
      "cell_type": "markdown",
      "source": [
        "##Problema 2: O Teste Anti-Doping no Atletismo"
      ],
      "metadata": {
        "id": "fGxcp6d0Fg10"
      }
    },
    {
      "cell_type": "code",
      "source": [
        "pa = 0.02       # Probabilidade de o atleta usar doping\n",
        "pb = 0.98       # Probabilidade de teste positivo dado doping (sensibilidade)\n",
        "pf = 0.05       # Falso positivo: teste positivo dado que o atleta NÃO usa doping"
      ],
      "metadata": {
        "id": "DJiDVLaUFePq"
      },
      "execution_count": 9,
      "outputs": []
    },
    {
      "cell_type": "code",
      "source": [
        "pab = (pa * pb) / ((pa * pb) + ((1 - pa) * pf))\n",
        "print(f'P(Doping|Teste Positivo) = {pab * 100:.2f} %')"
      ],
      "metadata": {
        "colab": {
          "base_uri": "https://localhost:8080/"
        },
        "id": "AluMqUBsGNT-",
        "outputId": "153cdd22-6927-4f5a-f514-8983f8051932"
      },
      "execution_count": 10,
      "outputs": [
        {
          "output_type": "stream",
          "name": "stdout",
          "text": [
            "P(Doping|Teste Positivo) = 28.57 %\n"
          ]
        }
      ]
    },
    {
      "cell_type": "markdown",
      "source": [
        "##Problema 3: Identificação de Fraudes em Cartões de Crédito"
      ],
      "metadata": {
        "id": "1yVlFVHgJvKp"
      }
    },
    {
      "cell_type": "code",
      "source": [
        "pa = 0.001      # Probabilidade de uma transação ser fraude\n",
        "pb = 0.99       # Probabilidade de o sistema detectar uma fraude (sensibilidade)\n",
        "pf = 0.02       # Probabilidade de falso positivo (detectar fraude em transação legítima)"
      ],
      "metadata": {
        "id": "EGVU_up9MSyq"
      },
      "execution_count": 13,
      "outputs": []
    },
    {
      "cell_type": "code",
      "source": [
        "pab = (pa * pb) / ((pa * pb) + ((1 - pa) * pf))\n",
        "print(f'P(Fraude|Sinal Positivo) = {pab * 100:.2f} %')"
      ],
      "metadata": {
        "colab": {
          "base_uri": "https://localhost:8080/"
        },
        "id": "zi4FJ_19MrEt",
        "outputId": "9e4ca956-11f8-4c64-85ca-3fafd1d3f293"
      },
      "execution_count": 14,
      "outputs": [
        {
          "output_type": "stream",
          "name": "stdout",
          "text": [
            "P(Fraude|Sinal Positivo) = 4.72 %\n"
          ]
        }
      ]
    },
    {
      "cell_type": "markdown",
      "source": [
        "##Problema 4: Diagnóstico de uma Doença Rara"
      ],
      "metadata": {
        "id": "yUjbqhZ8NZJB"
      }
    },
    {
      "cell_type": "code",
      "source": [
        "pa = 0.0005     # Probabilidade de ter a doença\n",
        "pb = 0.97       # Probabilidade do teste dar positivo se a pessoa estiver doente\n",
        "pf = 0.04       # Falso positivo: teste positivo em pessoa saudável"
      ],
      "metadata": {
        "id": "TkCxoDL9OnTM"
      },
      "execution_count": 17,
      "outputs": []
    },
    {
      "cell_type": "code",
      "source": [
        "pab = (pa * pb) / ((pa * pb) + ((1 - pa) * pf))\n",
        "print(f'P(Doença|Teste Positivo) = {pab * 100:.2f} %')"
      ],
      "metadata": {
        "colab": {
          "base_uri": "https://localhost:8080/"
        },
        "id": "Bkpz8N9bNsd7",
        "outputId": "04e53488-dcd0-41ba-b85c-efcb2f5edd1f"
      },
      "execution_count": 18,
      "outputs": [
        {
          "output_type": "stream",
          "name": "stdout",
          "text": [
            "P(Doença|Teste Positivo) = 1.20 %\n"
          ]
        }
      ]
    },
    {
      "cell_type": "markdown",
      "source": [
        "##Problema 5: Detecção de Malware em Arquivos"
      ],
      "metadata": {
        "id": "xUK6-bYlPP0x"
      }
    },
    {
      "cell_type": "code",
      "source": [
        "pa = 0.003     # Probabilidade de ser malware\n",
        "pb = 0.96      # Sensibilidade: teste positivo dado que é malware\n",
        "pf = 0.015     # Falso positivo: teste positivo dado que é legítimo"
      ],
      "metadata": {
        "id": "UC4-ed5DPNwW"
      },
      "execution_count": 19,
      "outputs": []
    },
    {
      "cell_type": "code",
      "source": [
        "pab = (pa * pb) / ((pa * pb) + ((1 - pa) * pf))\n",
        "print(f'P(Malware|Sinalização Positiva) = {pab * 100:.2f} %')"
      ],
      "metadata": {
        "colab": {
          "base_uri": "https://localhost:8080/"
        },
        "id": "xragzHl3Pw9x",
        "outputId": "042db691-83e0-4da3-e3d0-bf3786959e2f"
      },
      "execution_count": 20,
      "outputs": [
        {
          "output_type": "stream",
          "name": "stdout",
          "text": [
            "P(Malware|Sinalização Positiva) = 16.15 %\n"
          ]
        }
      ]
    },
    {
      "cell_type": "markdown",
      "source": [
        "##Problema 6: Identificação de Motoristas Embriagados"
      ],
      "metadata": {
        "id": "rzlkd1DwP5st"
      }
    },
    {
      "cell_type": "code",
      "source": [
        "pa = 0.04      # Probabilidade de estar alcoolizado\n",
        "pb = 0.92      # Sensibilidade: teste positivo dado alcoolizado\n",
        "pf = 0.07      # Falso positivo: teste positivo dado sóbrio"
      ],
      "metadata": {
        "id": "gwQARp16P5Sv"
      },
      "execution_count": 21,
      "outputs": []
    },
    {
      "cell_type": "code",
      "source": [
        "pab = (pa * pb) / ((pa * pb) + ((1 - pa) * pf))\n",
        "print(f'P(Alcoolizado|Teste Positivo) = {pab * 100:.2f} %')"
      ],
      "metadata": {
        "colab": {
          "base_uri": "https://localhost:8080/"
        },
        "id": "oLYGdvYMQO_i",
        "outputId": "56b19098-e8ba-47fe-848e-d15cabbb5c98"
      },
      "execution_count": 22,
      "outputs": [
        {
          "output_type": "stream",
          "name": "stdout",
          "text": [
            "P(Alcoolizado|Teste Positivo) = 35.38 %\n"
          ]
        }
      ]
    },
    {
      "cell_type": "markdown",
      "source": [
        "##Problema 7: Teste de Eficiência de uma Nova Vacina\n"
      ],
      "metadata": {
        "id": "ZHHot9msQdBQ"
      }
    },
    {
      "cell_type": "code",
      "source": [
        "pa = 0.02      # Probabilidade de estar infectado\n",
        "pb = 0.98      # Sensibilidade: teste positivo dado infectado\n",
        "pf = 0.03      # Falso positivo: teste positivo dado saudável"
      ],
      "metadata": {
        "id": "mAJHjMS0QWvV"
      },
      "execution_count": 23,
      "outputs": []
    },
    {
      "cell_type": "code",
      "source": [
        "pab = (pa * pb) / ((pa * pb) + ((1 - pa) * pf))\n",
        "print(f'P(Infectado|Teste Positivo) = {pab * 100:.2f} %')"
      ],
      "metadata": {
        "colab": {
          "base_uri": "https://localhost:8080/"
        },
        "id": "gCei8mlvQriB",
        "outputId": "ddffad01-ff51-4ebe-d279-4c25541fc443"
      },
      "execution_count": 24,
      "outputs": [
        {
          "output_type": "stream",
          "name": "stdout",
          "text": [
            "P(Infectado|Teste Positivo) = 40.00 %\n"
          ]
        }
      ]
    },
    {
      "cell_type": "markdown",
      "source": [
        "##Problema 8: Alarme de Roubo em uma Loja"
      ],
      "metadata": {
        "id": "Es96pbu9QzpH"
      }
    },
    {
      "cell_type": "code",
      "source": [
        "pa = 0.007     # Probabilidade de roubo\n",
        "pb = 0.94      # Sensibilidade: alarme dispara corretamente no roubo\n",
        "pf = 0.04      # Falso positivo: alarme dispara sem roubo"
      ],
      "metadata": {
        "id": "Ot0GZQCxQzIe"
      },
      "execution_count": 25,
      "outputs": []
    },
    {
      "cell_type": "code",
      "source": [
        "pab = (pa * pb) / ((pa * pb) + ((1 - pa) * pf))\n",
        "print(f'P(Roubo|Alarme Disparado) = {pab * 100:.2f} %')"
      ],
      "metadata": {
        "colab": {
          "base_uri": "https://localhost:8080/"
        },
        "id": "gujRskAkRDPi",
        "outputId": "4fd585a9-3676-4df5-e75e-536c09135fc9"
      },
      "execution_count": 26,
      "outputs": [
        {
          "output_type": "stream",
          "name": "stdout",
          "text": [
            "P(Roubo|Alarme Disparado) = 14.21 %\n"
          ]
        }
      ]
    },
    {
      "cell_type": "markdown",
      "source": [
        "##Problema 9: Teste de Contaminação na Água\n"
      ],
      "metadata": {
        "id": "52Z2KLBrRJ4p"
      }
    },
    {
      "cell_type": "code",
      "source": [
        "pa = 0.015     # Probabilidade de estar contaminada\n",
        "pb = 0.98      # Sensibilidade: teste positivo dado contaminação\n",
        "pf = 0.02      # Falso positivo: teste positivo sem contaminação"
      ],
      "metadata": {
        "id": "LiStpkAWRI2I"
      },
      "execution_count": 27,
      "outputs": []
    },
    {
      "cell_type": "code",
      "source": [
        "pab = (pa * pb) / ((pa * pb) + ((1 - pa) * pf))\n",
        "print(f'P(Contaminação|Teste Positivo) = {pab * 100:.2f} %')"
      ],
      "metadata": {
        "colab": {
          "base_uri": "https://localhost:8080/"
        },
        "id": "uePHvmx1RInq",
        "outputId": "a145b297-ab6f-4f19-b927-382328a9bb46"
      },
      "execution_count": 28,
      "outputs": [
        {
          "output_type": "stream",
          "name": "stdout",
          "text": [
            "P(Contaminação|Teste Positivo) = 42.73 %\n"
          ]
        }
      ]
    },
    {
      "cell_type": "markdown",
      "source": [
        "##Problema 10: Inspeção de Qualidade em uma Fábrica"
      ],
      "metadata": {
        "id": "kIexObF5Rp2f"
      }
    },
    {
      "cell_type": "code",
      "source": [
        "pa = 0.008     # Probabilidade de defeito real\n",
        "pb = 0.95      # Sensibilidade: teste positivo dado defeito\n",
        "pf = 0.03      # Falso positivo: teste positivo sem defeito"
      ],
      "metadata": {
        "id": "9I4OjvUMRoUp"
      },
      "execution_count": 29,
      "outputs": []
    },
    {
      "cell_type": "code",
      "source": [
        "pab = (pa * pb) / ((pa * pb) + ((1 - pa) * pf))\n",
        "print(f'P(Defeito|Teste Positivo) = {pab * 100:.2f} %')"
      ],
      "metadata": {
        "colab": {
          "base_uri": "https://localhost:8080/"
        },
        "id": "Q9MxXNGqR80p",
        "outputId": "176d629a-27df-43a2-fcb4-5a045e75c18d"
      },
      "execution_count": 30,
      "outputs": [
        {
          "output_type": "stream",
          "name": "stdout",
          "text": [
            "P(Defeito|Teste Positivo) = 20.34 %\n"
          ]
        }
      ]
    },
    {
      "cell_type": "markdown",
      "source": [
        "##Problema 11: Triagem de Candidatos em uma Entrevista"
      ],
      "metadata": {
        "id": "EddBPeYpSJAm"
      }
    },
    {
      "cell_type": "code",
      "source": [
        "pa = 0.05     # Probabilidade de ser adequado\n",
        "pb = 0.90     # Sensibilidade: teste positivo dado candidato adequado\n",
        "pf = 0.08     # Falso positivo: teste positivo dado candidato inadequado"
      ],
      "metadata": {
        "id": "7pEFttyQSIOE"
      },
      "execution_count": 31,
      "outputs": []
    },
    {
      "cell_type": "code",
      "source": [
        "pab = (pa * pb) / ((pa * pb) + ((1 - pa) * pf))\n",
        "print(f'P(Apto|Teste Positivo) = {pab * 100:.2f} %')\n"
      ],
      "metadata": {
        "colab": {
          "base_uri": "https://localhost:8080/"
        },
        "id": "MvWKz7lUSHf4",
        "outputId": "b7d8abcb-9836-44f8-d16a-92a22f07afb8"
      },
      "execution_count": 32,
      "outputs": [
        {
          "output_type": "stream",
          "name": "stdout",
          "text": [
            "P(Apto|Teste Positivo) = 37.19 %\n"
          ]
        }
      ]
    },
    {
      "cell_type": "markdown",
      "source": [
        "##Problema 12: Detector de Mensagens Spam"
      ],
      "metadata": {
        "id": "GHKrrwhaSqDA"
      }
    },
    {
      "cell_type": "code",
      "source": [
        "pa = 0.15     # Probabilidade de ser spam\n",
        "pb = 0.96     # Sensibilidade: detector classifica como spam quando é spam\n",
        "pf = 0.05     # Falso positivo: detector classifica como spam quando NÃO é spam"
      ],
      "metadata": {
        "id": "wLrYhCxIS3iT"
      },
      "execution_count": 33,
      "outputs": []
    },
    {
      "cell_type": "code",
      "source": [
        "pab = (pa * pb) / ((pa * pb) + ((1 - pa) * pf))\n",
        "print(f'P(Spam|Mensagem) = {pab * 100:.2f} %')"
      ],
      "metadata": {
        "colab": {
          "base_uri": "https://localhost:8080/"
        },
        "id": "16fP2BsJS3SA",
        "outputId": "ead9e8ef-50f0-4c29-ff6f-4f8ed6802eb7"
      },
      "execution_count": 34,
      "outputs": [
        {
          "output_type": "stream",
          "name": "stdout",
          "text": [
            "P(Spam|Mensagem) = 77.21 %\n"
          ]
        }
      ]
    },
    {
      "cell_type": "markdown",
      "source": [
        "##Problema 13: Reconhecimento Facial em Aeroportos"
      ],
      "metadata": {
        "id": "tfGIhL1RTLmd"
      }
    },
    {
      "cell_type": "code",
      "source": [
        "pa = 0.002    # Probabilidade de estar na lista de procurados\n",
        "pb = 0.99     # Sensibilidade: sistema identifica corretamente os procurados\n",
        "pf = 0.01     # Falso positivo: sistema identifica incorretamente os não procurados"
      ],
      "metadata": {
        "id": "N8SxYF9KTKw8"
      },
      "execution_count": 35,
      "outputs": []
    },
    {
      "cell_type": "code",
      "source": [
        "pab = (pa * pb) / ((pa * pb) + ((1 - pa) * pf))\n",
        "print(f'P(Procurado|Imagem) = {pab * 100:.2f} %')"
      ],
      "metadata": {
        "colab": {
          "base_uri": "https://localhost:8080/"
        },
        "id": "zqZaFK9CTKee",
        "outputId": "cd2670a7-e35f-4b03-f6b3-b064378f580a"
      },
      "execution_count": 36,
      "outputs": [
        {
          "output_type": "stream",
          "name": "stdout",
          "text": [
            "P(Procurado|Imagem) = 16.56 %\n"
          ]
        }
      ]
    },
    {
      "cell_type": "markdown",
      "source": [
        "##Problema 14: Teste de Fidelidade em Programas de Benefícios"
      ],
      "metadata": {
        "id": "ntZ0FWyaTtH1"
      }
    },
    {
      "cell_type": "code",
      "source": [
        "pa = 0.10    # Probabilidade de o cliente ser altamente fiel\n",
        "pb = 0.95    # Sensibilidade: sistema acerta 95% dos fiéis\n",
        "pf = 0.07    # Falso positivo: 7% dos clientes comuns são classificados como fiéis"
      ],
      "metadata": {
        "id": "OuDqZsCdTse8"
      },
      "execution_count": 37,
      "outputs": []
    },
    {
      "cell_type": "code",
      "source": [
        "pab = (pa * pb) / ((pa * pb) + ((1 - pa) * pf))\n",
        "print(f'P(Fiel|Classificado como Fiel) = {pab * 100:.2f} %')"
      ],
      "metadata": {
        "colab": {
          "base_uri": "https://localhost:8080/"
        },
        "id": "82SniRQSTsDT",
        "outputId": "6fbd4183-4679-4524-ea13-b7798c48fbe4"
      },
      "execution_count": 38,
      "outputs": [
        {
          "output_type": "stream",
          "name": "stdout",
          "text": [
            "P(Fiel|Classificado como Fiel) = 60.13 %\n"
          ]
        }
      ]
    },
    {
      "cell_type": "markdown",
      "source": [
        "##Problema 15: Sensor de Qualidade do Ar"
      ],
      "metadata": {
        "id": "o5M9qtR5UMB3"
      }
    },
    {
      "cell_type": "code",
      "source": [
        "pa = 0.02    # Probabilidade real de um dia ser crítico\n",
        "pb = 0.97    # Sensibilidade: sensor detecta corretamente 97% dos dias críticos\n",
        "pf = 0.03    # Falso positivo: 3% dos dias não críticos são classificados como críticos"
      ],
      "metadata": {
        "id": "4x5V3dJkULgk"
      },
      "execution_count": 39,
      "outputs": []
    },
    {
      "cell_type": "code",
      "source": [
        "pab = (pa * pb) / ((pa * pb) + ((1 - pa) * pf))\n",
        "print(f'P(Crítico|Dia) = {pab * 100:.2f} %')\n"
      ],
      "metadata": {
        "colab": {
          "base_uri": "https://localhost:8080/"
        },
        "id": "3ebfFk7TULZe",
        "outputId": "fa053e73-df80-4d43-84a6-6498aae3055b"
      },
      "execution_count": 40,
      "outputs": [
        {
          "output_type": "stream",
          "name": "stdout",
          "text": [
            "P(Crítico|Dia) = 39.75 %\n"
          ]
        }
      ]
    }
  ]
}