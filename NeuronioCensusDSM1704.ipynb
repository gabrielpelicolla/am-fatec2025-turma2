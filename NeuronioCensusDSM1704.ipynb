{
  "nbformat": 4,
  "nbformat_minor": 0,
  "metadata": {
    "colab": {
      "provenance": [],
      "authorship_tag": "ABX9TyO9jcDoM/p01TnVOLcElY1a",
      "include_colab_link": true
    },
    "kernelspec": {
      "name": "python3",
      "display_name": "Python 3"
    },
    "language_info": {
      "name": "python"
    }
  },
  "cells": [
    {
      "cell_type": "markdown",
      "metadata": {
        "id": "view-in-github",
        "colab_type": "text"
      },
      "source": [
        "<a href=\"https://colab.research.google.com/github/gabrielpelicolla/am-fatec2025-turma2/blob/main/NeuronioCensusDSM1704.ipynb\" target=\"_parent\"><img src=\"https://colab.research.google.com/assets/colab-badge.svg\" alt=\"Open In Colab\"/></a>"
      ]
    },
    {
      "cell_type": "markdown",
      "source": [
        "#Neuronio Baysidiano com Preditores Categóricos"
      ],
      "metadata": {
        "id": "EY9PaSDKR65M"
      }
    },
    {
      "cell_type": "code",
      "source": [
        "!pip install plotly --upgrade\n",
        "!pip install squarify --upgrade"
      ],
      "metadata": {
        "colab": {
          "base_uri": "https://localhost:8080/"
        },
        "id": "0mj1SsdERu-O",
        "outputId": "2cd36519-6182-49e4-aa74-8df6aa312927"
      },
      "execution_count": 18,
      "outputs": [
        {
          "output_type": "stream",
          "name": "stdout",
          "text": [
            "Requirement already satisfied: plotly in /usr/local/lib/python3.11/dist-packages (6.0.1)\n",
            "Requirement already satisfied: narwhals>=1.15.1 in /usr/local/lib/python3.11/dist-packages (from plotly) (1.34.1)\n",
            "Requirement already satisfied: packaging in /usr/local/lib/python3.11/dist-packages (from plotly) (24.2)\n",
            "Requirement already satisfied: squarify in /usr/local/lib/python3.11/dist-packages (0.4.4)\n"
          ]
        }
      ]
    },
    {
      "cell_type": "code",
      "execution_count": 19,
      "metadata": {
        "id": "QgTMPtO5Rqtj"
      },
      "outputs": [],
      "source": [
        "import pandas as pd\n",
        "import numpy as np\n",
        "import seaborn as sns\n",
        "import matplotlib.pyplot as plt\n",
        "import plotly.express as px\n",
        "import pickle"
      ]
    },
    {
      "cell_type": "code",
      "source": [
        "from google.colab import drive\n",
        "drive.mount('/content/drive')"
      ],
      "metadata": {
        "colab": {
          "base_uri": "https://localhost:8080/"
        },
        "id": "tBRt3-YDR3Jq",
        "outputId": "30b1780d-43bc-4d6c-e62b-abcfcc799572"
      },
      "execution_count": 20,
      "outputs": [
        {
          "output_type": "stream",
          "name": "stdout",
          "text": [
            "Drive already mounted at /content/drive; to attempt to forcibly remount, call drive.mount(\"/content/drive\", force_remount=True).\n"
          ]
        }
      ]
    },
    {
      "cell_type": "code",
      "source": [
        "from sklearn.naive_bayes import GaussianNB"
      ],
      "metadata": {
        "id": "eNDphpZJTFnW"
      },
      "execution_count": 21,
      "outputs": []
    },
    {
      "cell_type": "code",
      "source": [
        "with open('/content/drive/MyDrive/am5t2/am5s/pickle/census.pkl', 'rb') as f:\n",
        "  x_censu_treinamento, x_censu_teste, y_censu_treinamento, y_censu_teste = pickle.load(f)"
      ],
      "metadata": {
        "id": "z0EhuTYcTQTV"
      },
      "execution_count": 22,
      "outputs": []
    },
    {
      "cell_type": "code",
      "source": [
        "x_censu_treinamento.shape, y_censu_treinamento.shape"
      ],
      "metadata": {
        "colab": {
          "base_uri": "https://localhost:8080/"
        },
        "id": "2abAw5aVT1C7",
        "outputId": "66ea55b4-6d73-4089-ef73-f863d2b598a2"
      },
      "execution_count": 23,
      "outputs": [
        {
          "output_type": "execute_result",
          "data": {
            "text/plain": [
              "((24420, 108), (24420,))"
            ]
          },
          "metadata": {},
          "execution_count": 23
        }
      ]
    },
    {
      "cell_type": "markdown",
      "source": [
        "#Treinamento do Neuronio"
      ],
      "metadata": {
        "id": "m8-29aeRYEvC"
      }
    },
    {
      "cell_type": "code",
      "source": [
        "naive_census = GaussianNB()\n",
        "naive_census.fit(x_censu_treinamento, y_censu_treinamento)\n",
        "census_previsoes = naive_census.predict(x_censu_teste)\n",
        "census_previsoes"
      ],
      "metadata": {
        "colab": {
          "base_uri": "https://localhost:8080/"
        },
        "id": "m0eRm6kzYT1s",
        "outputId": "44b8d37e-9933-485f-972b-99cc790d0d86"
      },
      "execution_count": 24,
      "outputs": [
        {
          "output_type": "execute_result",
          "data": {
            "text/plain": [
              "array([' >50K', ' >50K', ' >50K', ..., ' <=50K', ' >50K', ' <=50K'],\n",
              "      dtype='<U6')"
            ]
          },
          "metadata": {},
          "execution_count": 24
        }
      ]
    },
    {
      "cell_type": "code",
      "source": [
        "from sklearn.metrics import accuracy_score, confusion_matrix, classification_report\n",
        "from yellowbrick.classifier import ConfusionMatrix"
      ],
      "metadata": {
        "id": "OW1WDqmsYiLl"
      },
      "execution_count": 25,
      "outputs": []
    },
    {
      "cell_type": "code",
      "source": [
        "census_acuracia = accuracy_score(y_censu_teste, census_previsoes)\n",
        "print ('P/A =', census_acuracia*100, '%')"
      ],
      "metadata": {
        "colab": {
          "base_uri": "https://localhost:8080/"
        },
        "id": "GzRks-LnZf3N",
        "outputId": "e67a2ca3-c7fa-4cf2-d1cd-51efd9eb36c2"
      },
      "execution_count": 26,
      "outputs": [
        {
          "output_type": "stream",
          "name": "stdout",
          "text": [
            "P/A = 47.96708021127626 %\n"
          ]
        }
      ]
    }
  ]
}