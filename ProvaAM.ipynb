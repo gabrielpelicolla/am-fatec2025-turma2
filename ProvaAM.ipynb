{
  "nbformat": 4,
  "nbformat_minor": 0,
  "metadata": {
    "colab": {
      "provenance": [],
      "authorship_tag": "ABX9TyOatrdEjy/9Fe4TxOXqVjNe",
      "include_colab_link": true
    },
    "kernelspec": {
      "name": "python3",
      "display_name": "Python 3"
    },
    "language_info": {
      "name": "python"
    }
  },
  "cells": [
    {
      "cell_type": "markdown",
      "metadata": {
        "id": "view-in-github",
        "colab_type": "text"
      },
      "source": [
        "<a href=\"https://colab.research.google.com/github/gabrielpelicolla/am-fatec2025-turma2/blob/main/ProvaAM.ipynb\" target=\"_parent\"><img src=\"https://colab.research.google.com/assets/colab-badge.svg\" alt=\"Open In Colab\"/></a>"
      ]
    },
    {
      "cell_type": "markdown",
      "source": [
        "#Avaliação Prática – Análise de Ganhadores e Perdedores com Janela Fixa e Estatísticas de Mercado"
      ],
      "metadata": {
        "id": "ovlE1al-6zP2"
      }
    },
    {
      "cell_type": "markdown",
      "source": [
        "##Objetivo da Avaliação"
      ],
      "metadata": {
        "id": "UZ7mf6Uk79w0"
      }
    },
    {
      "cell_type": "markdown",
      "source": [
        "Você deverá desenvolver um projeto em Python que:\n",
        "- Consome a lista de ganhadores e perdedores do dia pela Alpha Vantage\n",
        "- Seleciona automaticamente os 3 principais ativos de cada grupo (ganhadores e perdedores)\n",
        "- Utiliza a API ANALYTICS_FIXED_WINDOW para coletar estatísticas de janela fixa (média, desvio\n",
        "padrão, correlação)\n",
        "- Compara o comportamento estatístico dos ativos vencedores e perdedores\n",
        "- Identifica padrões de movimentação com base nos resultados e treina um classificador Naive\n",
        "Bayes para prever a categoria de um ativo (ganhador ou perdedor) a partir de seus indicadores\n",
        "estatísticos\n",
        "- Exporta um relatório com as principais conclusões e recomendações de aprendizado de\n",
        "mercado"
      ],
      "metadata": {
        "id": "uD_q1gsG8LOn"
      }
    },
    {
      "cell_type": "markdown",
      "source": [
        "##Importação das Bibliotecas"
      ],
      "metadata": {
        "id": "xS8jArKn8hVD"
      }
    },
    {
      "cell_type": "code",
      "execution_count": 1,
      "metadata": {
        "colab": {
          "base_uri": "https://localhost:8080/"
        },
        "id": "AMHfkUn_6UmS",
        "outputId": "fce33065-4d38-45a4-9592-5b400a7d016d"
      },
      "outputs": [
        {
          "output_type": "stream",
          "name": "stdout",
          "text": [
            "Requirement already satisfied: plotly in /usr/local/lib/python3.11/dist-packages (5.24.1)\n",
            "Collecting plotly\n",
            "  Downloading plotly-6.0.1-py3-none-any.whl.metadata (6.7 kB)\n",
            "Requirement already satisfied: narwhals>=1.15.1 in /usr/local/lib/python3.11/dist-packages (from plotly) (1.37.1)\n",
            "Requirement already satisfied: packaging in /usr/local/lib/python3.11/dist-packages (from plotly) (24.2)\n",
            "Downloading plotly-6.0.1-py3-none-any.whl (14.8 MB)\n",
            "\u001b[2K   \u001b[90m━━━━━━━━━━━━━━━━━━━━━━━━━━━━━━━━━━━━━━━━\u001b[0m \u001b[32m14.8/14.8 MB\u001b[0m \u001b[31m63.2 MB/s\u001b[0m eta \u001b[36m0:00:00\u001b[0m\n",
            "\u001b[?25hInstalling collected packages: plotly\n",
            "  Attempting uninstall: plotly\n",
            "    Found existing installation: plotly 5.24.1\n",
            "    Uninstalling plotly-5.24.1:\n",
            "      Successfully uninstalled plotly-5.24.1\n",
            "Successfully installed plotly-6.0.1\n",
            "Collecting squarify\n",
            "  Downloading squarify-0.4.4-py3-none-any.whl.metadata (600 bytes)\n",
            "Downloading squarify-0.4.4-py3-none-any.whl (4.1 kB)\n",
            "Installing collected packages: squarify\n",
            "Successfully installed squarify-0.4.4\n"
          ]
        }
      ],
      "source": [
        "!pip install plotly --upgrade\n",
        "!pip install squarify --upgrade"
      ]
    },
    {
      "cell_type": "code",
      "source": [
        "import requests\n",
        "import pandas as pd\n",
        "import numpy as np\n",
        "import seaborn as sns\n",
        "import matplotlib.pyplot as plt\n",
        "import plotly.express as px\n",
        "from sklearn.preprocessing import StandardScaler\n",
        "standardScaler = StandardScaler()\n",
        "from sklearn.preprocessing import LabelEncoder\n",
        "labelEncoder = LabelEncoder()\n",
        "from sklearn.preprocessing import OneHotEncoder\n",
        "from sklearn.compose import ColumnTransformer\n",
        "from sklearn.model_selection import train_test_split\n",
        "import pickle"
      ],
      "metadata": {
        "id": "7b5eQydc_N1T"
      },
      "execution_count": 2,
      "outputs": []
    },
    {
      "cell_type": "markdown",
      "source": [
        "##Etapas Esperadas da Atividade"
      ],
      "metadata": {
        "id": "SBRGq2AdBPx3"
      }
    },
    {
      "cell_type": "markdown",
      "source": [
        "###1. Consulta à API TOP_GAINERS_LOSERS e seleção dos 3 principais ganhadores e 3 principais perdedores\n"
      ],
      "metadata": {
        "id": "qnfUusuYBYln"
      }
    },
    {
      "cell_type": "code",
      "source": [
        "url_gainers_loser = 'https://www.alphavantage.co/query?function=TOP_GAINERS_LOSERS&apikey=23BGWI8HTXGH4RAF'"
      ],
      "metadata": {
        "id": "9-w47OUeBh2b"
      },
      "execution_count": 3,
      "outputs": []
    },
    {
      "cell_type": "code",
      "source": [
        "r = requests.get(url_gainers_loser)\n",
        "data = r.json()"
      ],
      "metadata": {
        "id": "A47LIFSxe20j"
      },
      "execution_count": 4,
      "outputs": []
    },
    {
      "cell_type": "code",
      "source": [
        "time_series= data[\"top_gainers\"]\n",
        "estatistica_mercado = pd.DataFrame.from_dict(time_series)\n",
        "estatistica_mercado"
      ],
      "metadata": {
        "id": "VdBYPrk1fF9A",
        "colab": {
          "base_uri": "https://localhost:8080/",
          "height": 676
        },
        "outputId": "e96a32dd-2917-4dac-c03d-237a8da761af"
      },
      "execution_count": 5,
      "outputs": [
        {
          "output_type": "execute_result",
          "data": {
            "text/plain": [
              "   ticker   price change_amount change_percentage     volume\n",
              "0    PLRZ    1.01        0.7566         298.5793%  342987141\n",
              "1    FRGT    2.08        1.0952         111.2104%  161527339\n",
              "2   CELUW    0.06         0.029          93.5484%      48354\n",
              "3   ABVEW  0.0889        0.0417          88.3475%     403696\n",
              "4     IBO   0.733         0.333            83.25%  189641441\n",
              "5   LVWR+  0.0222        0.0083          59.7122%       1177\n",
              "6    CLIK   0.345        0.1286           59.427%   33084143\n",
              "7   AIMDW  0.1099        0.0399             57.0%       1734\n",
              "8   ADNWW  0.0095        0.0034          55.7377%     120194\n",
              "9   BENFW  0.0069        0.0024          53.3333%      23209\n",
              "10    SDM    6.11          2.11            52.75%    4922528\n",
              "11  NIVFW  0.0198        0.0067           51.145%        500\n",
              "12  LOTWW  0.1713        0.0573          50.2632%       6899\n",
              "13  RFAIR  0.0899        0.0299          49.8333%      55287\n",
              "14  BULLZ    3.77          1.21          47.2656%     208649\n",
              "15  BULLW    2.49          0.76          43.9306%    1029693\n",
              "16    CPS   21.89          6.67          43.8239%    2341224\n",
              "17  DFLIW  0.0283        0.0082           40.796%       9025\n",
              "18   RFL+    0.07          0.02             40.0%       7446\n",
              "19   BIVI    1.21        0.3397          39.0325%    8392196"
            ],
            "text/html": [
              "\n",
              "  <div id=\"df-c46fdbef-42ae-43d1-b02f-f0ade15b14be\" class=\"colab-df-container\">\n",
              "    <div>\n",
              "<style scoped>\n",
              "    .dataframe tbody tr th:only-of-type {\n",
              "        vertical-align: middle;\n",
              "    }\n",
              "\n",
              "    .dataframe tbody tr th {\n",
              "        vertical-align: top;\n",
              "    }\n",
              "\n",
              "    .dataframe thead th {\n",
              "        text-align: right;\n",
              "    }\n",
              "</style>\n",
              "<table border=\"1\" class=\"dataframe\">\n",
              "  <thead>\n",
              "    <tr style=\"text-align: right;\">\n",
              "      <th></th>\n",
              "      <th>ticker</th>\n",
              "      <th>price</th>\n",
              "      <th>change_amount</th>\n",
              "      <th>change_percentage</th>\n",
              "      <th>volume</th>\n",
              "    </tr>\n",
              "  </thead>\n",
              "  <tbody>\n",
              "    <tr>\n",
              "      <th>0</th>\n",
              "      <td>PLRZ</td>\n",
              "      <td>1.01</td>\n",
              "      <td>0.7566</td>\n",
              "      <td>298.5793%</td>\n",
              "      <td>342987141</td>\n",
              "    </tr>\n",
              "    <tr>\n",
              "      <th>1</th>\n",
              "      <td>FRGT</td>\n",
              "      <td>2.08</td>\n",
              "      <td>1.0952</td>\n",
              "      <td>111.2104%</td>\n",
              "      <td>161527339</td>\n",
              "    </tr>\n",
              "    <tr>\n",
              "      <th>2</th>\n",
              "      <td>CELUW</td>\n",
              "      <td>0.06</td>\n",
              "      <td>0.029</td>\n",
              "      <td>93.5484%</td>\n",
              "      <td>48354</td>\n",
              "    </tr>\n",
              "    <tr>\n",
              "      <th>3</th>\n",
              "      <td>ABVEW</td>\n",
              "      <td>0.0889</td>\n",
              "      <td>0.0417</td>\n",
              "      <td>88.3475%</td>\n",
              "      <td>403696</td>\n",
              "    </tr>\n",
              "    <tr>\n",
              "      <th>4</th>\n",
              "      <td>IBO</td>\n",
              "      <td>0.733</td>\n",
              "      <td>0.333</td>\n",
              "      <td>83.25%</td>\n",
              "      <td>189641441</td>\n",
              "    </tr>\n",
              "    <tr>\n",
              "      <th>5</th>\n",
              "      <td>LVWR+</td>\n",
              "      <td>0.0222</td>\n",
              "      <td>0.0083</td>\n",
              "      <td>59.7122%</td>\n",
              "      <td>1177</td>\n",
              "    </tr>\n",
              "    <tr>\n",
              "      <th>6</th>\n",
              "      <td>CLIK</td>\n",
              "      <td>0.345</td>\n",
              "      <td>0.1286</td>\n",
              "      <td>59.427%</td>\n",
              "      <td>33084143</td>\n",
              "    </tr>\n",
              "    <tr>\n",
              "      <th>7</th>\n",
              "      <td>AIMDW</td>\n",
              "      <td>0.1099</td>\n",
              "      <td>0.0399</td>\n",
              "      <td>57.0%</td>\n",
              "      <td>1734</td>\n",
              "    </tr>\n",
              "    <tr>\n",
              "      <th>8</th>\n",
              "      <td>ADNWW</td>\n",
              "      <td>0.0095</td>\n",
              "      <td>0.0034</td>\n",
              "      <td>55.7377%</td>\n",
              "      <td>120194</td>\n",
              "    </tr>\n",
              "    <tr>\n",
              "      <th>9</th>\n",
              "      <td>BENFW</td>\n",
              "      <td>0.0069</td>\n",
              "      <td>0.0024</td>\n",
              "      <td>53.3333%</td>\n",
              "      <td>23209</td>\n",
              "    </tr>\n",
              "    <tr>\n",
              "      <th>10</th>\n",
              "      <td>SDM</td>\n",
              "      <td>6.11</td>\n",
              "      <td>2.11</td>\n",
              "      <td>52.75%</td>\n",
              "      <td>4922528</td>\n",
              "    </tr>\n",
              "    <tr>\n",
              "      <th>11</th>\n",
              "      <td>NIVFW</td>\n",
              "      <td>0.0198</td>\n",
              "      <td>0.0067</td>\n",
              "      <td>51.145%</td>\n",
              "      <td>500</td>\n",
              "    </tr>\n",
              "    <tr>\n",
              "      <th>12</th>\n",
              "      <td>LOTWW</td>\n",
              "      <td>0.1713</td>\n",
              "      <td>0.0573</td>\n",
              "      <td>50.2632%</td>\n",
              "      <td>6899</td>\n",
              "    </tr>\n",
              "    <tr>\n",
              "      <th>13</th>\n",
              "      <td>RFAIR</td>\n",
              "      <td>0.0899</td>\n",
              "      <td>0.0299</td>\n",
              "      <td>49.8333%</td>\n",
              "      <td>55287</td>\n",
              "    </tr>\n",
              "    <tr>\n",
              "      <th>14</th>\n",
              "      <td>BULLZ</td>\n",
              "      <td>3.77</td>\n",
              "      <td>1.21</td>\n",
              "      <td>47.2656%</td>\n",
              "      <td>208649</td>\n",
              "    </tr>\n",
              "    <tr>\n",
              "      <th>15</th>\n",
              "      <td>BULLW</td>\n",
              "      <td>2.49</td>\n",
              "      <td>0.76</td>\n",
              "      <td>43.9306%</td>\n",
              "      <td>1029693</td>\n",
              "    </tr>\n",
              "    <tr>\n",
              "      <th>16</th>\n",
              "      <td>CPS</td>\n",
              "      <td>21.89</td>\n",
              "      <td>6.67</td>\n",
              "      <td>43.8239%</td>\n",
              "      <td>2341224</td>\n",
              "    </tr>\n",
              "    <tr>\n",
              "      <th>17</th>\n",
              "      <td>DFLIW</td>\n",
              "      <td>0.0283</td>\n",
              "      <td>0.0082</td>\n",
              "      <td>40.796%</td>\n",
              "      <td>9025</td>\n",
              "    </tr>\n",
              "    <tr>\n",
              "      <th>18</th>\n",
              "      <td>RFL+</td>\n",
              "      <td>0.07</td>\n",
              "      <td>0.02</td>\n",
              "      <td>40.0%</td>\n",
              "      <td>7446</td>\n",
              "    </tr>\n",
              "    <tr>\n",
              "      <th>19</th>\n",
              "      <td>BIVI</td>\n",
              "      <td>1.21</td>\n",
              "      <td>0.3397</td>\n",
              "      <td>39.0325%</td>\n",
              "      <td>8392196</td>\n",
              "    </tr>\n",
              "  </tbody>\n",
              "</table>\n",
              "</div>\n",
              "    <div class=\"colab-df-buttons\">\n",
              "\n",
              "  <div class=\"colab-df-container\">\n",
              "    <button class=\"colab-df-convert\" onclick=\"convertToInteractive('df-c46fdbef-42ae-43d1-b02f-f0ade15b14be')\"\n",
              "            title=\"Convert this dataframe to an interactive table.\"\n",
              "            style=\"display:none;\">\n",
              "\n",
              "  <svg xmlns=\"http://www.w3.org/2000/svg\" height=\"24px\" viewBox=\"0 -960 960 960\">\n",
              "    <path d=\"M120-120v-720h720v720H120Zm60-500h600v-160H180v160Zm220 220h160v-160H400v160Zm0 220h160v-160H400v160ZM180-400h160v-160H180v160Zm440 0h160v-160H620v160ZM180-180h160v-160H180v160Zm440 0h160v-160H620v160Z\"/>\n",
              "  </svg>\n",
              "    </button>\n",
              "\n",
              "  <style>\n",
              "    .colab-df-container {\n",
              "      display:flex;\n",
              "      gap: 12px;\n",
              "    }\n",
              "\n",
              "    .colab-df-convert {\n",
              "      background-color: #E8F0FE;\n",
              "      border: none;\n",
              "      border-radius: 50%;\n",
              "      cursor: pointer;\n",
              "      display: none;\n",
              "      fill: #1967D2;\n",
              "      height: 32px;\n",
              "      padding: 0 0 0 0;\n",
              "      width: 32px;\n",
              "    }\n",
              "\n",
              "    .colab-df-convert:hover {\n",
              "      background-color: #E2EBFA;\n",
              "      box-shadow: 0px 1px 2px rgba(60, 64, 67, 0.3), 0px 1px 3px 1px rgba(60, 64, 67, 0.15);\n",
              "      fill: #174EA6;\n",
              "    }\n",
              "\n",
              "    .colab-df-buttons div {\n",
              "      margin-bottom: 4px;\n",
              "    }\n",
              "\n",
              "    [theme=dark] .colab-df-convert {\n",
              "      background-color: #3B4455;\n",
              "      fill: #D2E3FC;\n",
              "    }\n",
              "\n",
              "    [theme=dark] .colab-df-convert:hover {\n",
              "      background-color: #434B5C;\n",
              "      box-shadow: 0px 1px 3px 1px rgba(0, 0, 0, 0.15);\n",
              "      filter: drop-shadow(0px 1px 2px rgba(0, 0, 0, 0.3));\n",
              "      fill: #FFFFFF;\n",
              "    }\n",
              "  </style>\n",
              "\n",
              "    <script>\n",
              "      const buttonEl =\n",
              "        document.querySelector('#df-c46fdbef-42ae-43d1-b02f-f0ade15b14be button.colab-df-convert');\n",
              "      buttonEl.style.display =\n",
              "        google.colab.kernel.accessAllowed ? 'block' : 'none';\n",
              "\n",
              "      async function convertToInteractive(key) {\n",
              "        const element = document.querySelector('#df-c46fdbef-42ae-43d1-b02f-f0ade15b14be');\n",
              "        const dataTable =\n",
              "          await google.colab.kernel.invokeFunction('convertToInteractive',\n",
              "                                                    [key], {});\n",
              "        if (!dataTable) return;\n",
              "\n",
              "        const docLinkHtml = 'Like what you see? Visit the ' +\n",
              "          '<a target=\"_blank\" href=https://colab.research.google.com/notebooks/data_table.ipynb>data table notebook</a>'\n",
              "          + ' to learn more about interactive tables.';\n",
              "        element.innerHTML = '';\n",
              "        dataTable['output_type'] = 'display_data';\n",
              "        await google.colab.output.renderOutput(dataTable, element);\n",
              "        const docLink = document.createElement('div');\n",
              "        docLink.innerHTML = docLinkHtml;\n",
              "        element.appendChild(docLink);\n",
              "      }\n",
              "    </script>\n",
              "  </div>\n",
              "\n",
              "\n",
              "    <div id=\"df-b8ad706f-f048-48ee-ae3d-6fdcd878d6fd\">\n",
              "      <button class=\"colab-df-quickchart\" onclick=\"quickchart('df-b8ad706f-f048-48ee-ae3d-6fdcd878d6fd')\"\n",
              "                title=\"Suggest charts\"\n",
              "                style=\"display:none;\">\n",
              "\n",
              "<svg xmlns=\"http://www.w3.org/2000/svg\" height=\"24px\"viewBox=\"0 0 24 24\"\n",
              "     width=\"24px\">\n",
              "    <g>\n",
              "        <path d=\"M19 3H5c-1.1 0-2 .9-2 2v14c0 1.1.9 2 2 2h14c1.1 0 2-.9 2-2V5c0-1.1-.9-2-2-2zM9 17H7v-7h2v7zm4 0h-2V7h2v10zm4 0h-2v-4h2v4z\"/>\n",
              "    </g>\n",
              "</svg>\n",
              "      </button>\n",
              "\n",
              "<style>\n",
              "  .colab-df-quickchart {\n",
              "      --bg-color: #E8F0FE;\n",
              "      --fill-color: #1967D2;\n",
              "      --hover-bg-color: #E2EBFA;\n",
              "      --hover-fill-color: #174EA6;\n",
              "      --disabled-fill-color: #AAA;\n",
              "      --disabled-bg-color: #DDD;\n",
              "  }\n",
              "\n",
              "  [theme=dark] .colab-df-quickchart {\n",
              "      --bg-color: #3B4455;\n",
              "      --fill-color: #D2E3FC;\n",
              "      --hover-bg-color: #434B5C;\n",
              "      --hover-fill-color: #FFFFFF;\n",
              "      --disabled-bg-color: #3B4455;\n",
              "      --disabled-fill-color: #666;\n",
              "  }\n",
              "\n",
              "  .colab-df-quickchart {\n",
              "    background-color: var(--bg-color);\n",
              "    border: none;\n",
              "    border-radius: 50%;\n",
              "    cursor: pointer;\n",
              "    display: none;\n",
              "    fill: var(--fill-color);\n",
              "    height: 32px;\n",
              "    padding: 0;\n",
              "    width: 32px;\n",
              "  }\n",
              "\n",
              "  .colab-df-quickchart:hover {\n",
              "    background-color: var(--hover-bg-color);\n",
              "    box-shadow: 0 1px 2px rgba(60, 64, 67, 0.3), 0 1px 3px 1px rgba(60, 64, 67, 0.15);\n",
              "    fill: var(--button-hover-fill-color);\n",
              "  }\n",
              "\n",
              "  .colab-df-quickchart-complete:disabled,\n",
              "  .colab-df-quickchart-complete:disabled:hover {\n",
              "    background-color: var(--disabled-bg-color);\n",
              "    fill: var(--disabled-fill-color);\n",
              "    box-shadow: none;\n",
              "  }\n",
              "\n",
              "  .colab-df-spinner {\n",
              "    border: 2px solid var(--fill-color);\n",
              "    border-color: transparent;\n",
              "    border-bottom-color: var(--fill-color);\n",
              "    animation:\n",
              "      spin 1s steps(1) infinite;\n",
              "  }\n",
              "\n",
              "  @keyframes spin {\n",
              "    0% {\n",
              "      border-color: transparent;\n",
              "      border-bottom-color: var(--fill-color);\n",
              "      border-left-color: var(--fill-color);\n",
              "    }\n",
              "    20% {\n",
              "      border-color: transparent;\n",
              "      border-left-color: var(--fill-color);\n",
              "      border-top-color: var(--fill-color);\n",
              "    }\n",
              "    30% {\n",
              "      border-color: transparent;\n",
              "      border-left-color: var(--fill-color);\n",
              "      border-top-color: var(--fill-color);\n",
              "      border-right-color: var(--fill-color);\n",
              "    }\n",
              "    40% {\n",
              "      border-color: transparent;\n",
              "      border-right-color: var(--fill-color);\n",
              "      border-top-color: var(--fill-color);\n",
              "    }\n",
              "    60% {\n",
              "      border-color: transparent;\n",
              "      border-right-color: var(--fill-color);\n",
              "    }\n",
              "    80% {\n",
              "      border-color: transparent;\n",
              "      border-right-color: var(--fill-color);\n",
              "      border-bottom-color: var(--fill-color);\n",
              "    }\n",
              "    90% {\n",
              "      border-color: transparent;\n",
              "      border-bottom-color: var(--fill-color);\n",
              "    }\n",
              "  }\n",
              "</style>\n",
              "\n",
              "      <script>\n",
              "        async function quickchart(key) {\n",
              "          const quickchartButtonEl =\n",
              "            document.querySelector('#' + key + ' button');\n",
              "          quickchartButtonEl.disabled = true;  // To prevent multiple clicks.\n",
              "          quickchartButtonEl.classList.add('colab-df-spinner');\n",
              "          try {\n",
              "            const charts = await google.colab.kernel.invokeFunction(\n",
              "                'suggestCharts', [key], {});\n",
              "          } catch (error) {\n",
              "            console.error('Error during call to suggestCharts:', error);\n",
              "          }\n",
              "          quickchartButtonEl.classList.remove('colab-df-spinner');\n",
              "          quickchartButtonEl.classList.add('colab-df-quickchart-complete');\n",
              "        }\n",
              "        (() => {\n",
              "          let quickchartButtonEl =\n",
              "            document.querySelector('#df-b8ad706f-f048-48ee-ae3d-6fdcd878d6fd button');\n",
              "          quickchartButtonEl.style.display =\n",
              "            google.colab.kernel.accessAllowed ? 'block' : 'none';\n",
              "        })();\n",
              "      </script>\n",
              "    </div>\n",
              "\n",
              "  <div id=\"id_c0891c19-3c85-4e79-b827-fe93087f861a\">\n",
              "    <style>\n",
              "      .colab-df-generate {\n",
              "        background-color: #E8F0FE;\n",
              "        border: none;\n",
              "        border-radius: 50%;\n",
              "        cursor: pointer;\n",
              "        display: none;\n",
              "        fill: #1967D2;\n",
              "        height: 32px;\n",
              "        padding: 0 0 0 0;\n",
              "        width: 32px;\n",
              "      }\n",
              "\n",
              "      .colab-df-generate:hover {\n",
              "        background-color: #E2EBFA;\n",
              "        box-shadow: 0px 1px 2px rgba(60, 64, 67, 0.3), 0px 1px 3px 1px rgba(60, 64, 67, 0.15);\n",
              "        fill: #174EA6;\n",
              "      }\n",
              "\n",
              "      [theme=dark] .colab-df-generate {\n",
              "        background-color: #3B4455;\n",
              "        fill: #D2E3FC;\n",
              "      }\n",
              "\n",
              "      [theme=dark] .colab-df-generate:hover {\n",
              "        background-color: #434B5C;\n",
              "        box-shadow: 0px 1px 3px 1px rgba(0, 0, 0, 0.15);\n",
              "        filter: drop-shadow(0px 1px 2px rgba(0, 0, 0, 0.3));\n",
              "        fill: #FFFFFF;\n",
              "      }\n",
              "    </style>\n",
              "    <button class=\"colab-df-generate\" onclick=\"generateWithVariable('estatistica_mercado')\"\n",
              "            title=\"Generate code using this dataframe.\"\n",
              "            style=\"display:none;\">\n",
              "\n",
              "  <svg xmlns=\"http://www.w3.org/2000/svg\" height=\"24px\"viewBox=\"0 0 24 24\"\n",
              "       width=\"24px\">\n",
              "    <path d=\"M7,19H8.4L18.45,9,17,7.55,7,17.6ZM5,21V16.75L18.45,3.32a2,2,0,0,1,2.83,0l1.4,1.43a1.91,1.91,0,0,1,.58,1.4,1.91,1.91,0,0,1-.58,1.4L9.25,21ZM18.45,9,17,7.55Zm-12,3A5.31,5.31,0,0,0,4.9,8.1,5.31,5.31,0,0,0,1,6.5,5.31,5.31,0,0,0,4.9,4.9,5.31,5.31,0,0,0,6.5,1,5.31,5.31,0,0,0,8.1,4.9,5.31,5.31,0,0,0,12,6.5,5.46,5.46,0,0,0,6.5,12Z\"/>\n",
              "  </svg>\n",
              "    </button>\n",
              "    <script>\n",
              "      (() => {\n",
              "      const buttonEl =\n",
              "        document.querySelector('#id_c0891c19-3c85-4e79-b827-fe93087f861a button.colab-df-generate');\n",
              "      buttonEl.style.display =\n",
              "        google.colab.kernel.accessAllowed ? 'block' : 'none';\n",
              "\n",
              "      buttonEl.onclick = () => {\n",
              "        google.colab.notebook.generateWithVariable('estatistica_mercado');\n",
              "      }\n",
              "      })();\n",
              "    </script>\n",
              "  </div>\n",
              "\n",
              "    </div>\n",
              "  </div>\n"
            ],
            "application/vnd.google.colaboratory.intrinsic+json": {
              "type": "dataframe",
              "variable_name": "estatistica_mercado",
              "summary": "{\n  \"name\": \"estatistica_mercado\",\n  \"rows\": 20,\n  \"fields\": [\n    {\n      \"column\": \"ticker\",\n      \"properties\": {\n        \"dtype\": \"string\",\n        \"num_unique_values\": 20,\n        \"samples\": [\n          \"PLRZ\",\n          \"DFLIW\",\n          \"BULLW\"\n        ],\n        \"semantic_type\": \"\",\n        \"description\": \"\"\n      }\n    },\n    {\n      \"column\": \"price\",\n      \"properties\": {\n        \"dtype\": \"string\",\n        \"num_unique_values\": 20,\n        \"samples\": [\n          \"1.01\",\n          \"0.0283\",\n          \"2.49\"\n        ],\n        \"semantic_type\": \"\",\n        \"description\": \"\"\n      }\n    },\n    {\n      \"column\": \"change_amount\",\n      \"properties\": {\n        \"dtype\": \"string\",\n        \"num_unique_values\": 20,\n        \"samples\": [\n          \"0.7566\",\n          \"0.0082\",\n          \"0.76\"\n        ],\n        \"semantic_type\": \"\",\n        \"description\": \"\"\n      }\n    },\n    {\n      \"column\": \"change_percentage\",\n      \"properties\": {\n        \"dtype\": \"string\",\n        \"num_unique_values\": 20,\n        \"samples\": [\n          \"298.5793%\",\n          \"40.796%\",\n          \"43.9306%\"\n        ],\n        \"semantic_type\": \"\",\n        \"description\": \"\"\n      }\n    },\n    {\n      \"column\": \"volume\",\n      \"properties\": {\n        \"dtype\": \"string\",\n        \"num_unique_values\": 20,\n        \"samples\": [\n          \"342987141\",\n          \"9025\",\n          \"1029693\"\n        ],\n        \"semantic_type\": \"\",\n        \"description\": \"\"\n      }\n    }\n  ]\n}"
            }
          },
          "metadata": {},
          "execution_count": 5
        }
      ]
    },
    {
      "cell_type": "code",
      "source": [
        "gainers = pd.DataFrame.from_dict(data[\"top_gainers\"])\n",
        "gainers[\"change_percentage\"] = gainers[\"change_percentage\"].str.replace('%', '').astype(float)\n",
        "top_3_gainers = gainers.sort_values(by=\"change_percentage\", ascending=False).head(3)\n",
        "print(\"Top 3 Ganhadores:\")\n",
        "print(top_3_gainers[[\"ticker\", \"price\", \"change_percentage\"]])"
      ],
      "metadata": {
        "colab": {
          "base_uri": "https://localhost:8080/"
        },
        "id": "DOndU9Xo07R6",
        "outputId": "ba1d402f-45f0-40a2-e155-716f94721da3"
      },
      "execution_count": 6,
      "outputs": [
        {
          "output_type": "stream",
          "name": "stdout",
          "text": [
            "Top 3 Ganhadores:\n",
            "  ticker price  change_percentage\n",
            "0   PLRZ  1.01           298.5793\n",
            "1   FRGT  2.08           111.2104\n",
            "2  CELUW  0.06            93.5484\n"
          ]
        }
      ]
    },
    {
      "cell_type": "code",
      "source": [
        "losers = pd.DataFrame.from_dict(data[\"top_losers\"])\n",
        "losers[\"change_percentage\"] = losers[\"change_percentage\"].str.replace('%', '').astype(float)\n",
        "top_3_losers = losers.sort_values(by=\"change_percentage\").head(3)\n",
        "print(\"\\nTop 3 Perdedores:\")\n",
        "print(top_3_losers[[\"ticker\", \"price\", \"change_percentage\"]])"
      ],
      "metadata": {
        "colab": {
          "base_uri": "https://localhost:8080/"
        },
        "id": "qqqaFyH01Snj",
        "outputId": "83244859-94cb-43c4-83e9-d8fbfe426e71"
      },
      "execution_count": 7,
      "outputs": [
        {
          "output_type": "stream",
          "name": "stdout",
          "text": [
            "\n",
            "Top 3 Perdedores:\n",
            "  ticker   price  change_percentage\n",
            "0  ZCARW  0.0101           -53.2407\n",
            "1  KLTOW    0.01           -46.5241\n",
            "2  COOTW  0.0157           -43.7276\n"
          ]
        }
      ]
    },
    {
      "cell_type": "markdown",
      "source": [
        "###2. Para cada um dos ativos selecionados, uso da API ANALYTICS_FIXED_WINDOW com RANGE de 2 meses (ex: 2023-07-01 a 2023-08-31), INTERVAL diário e OHLC = close\n"
      ],
      "metadata": {
        "id": "-iyWqTnjBm8E"
      }
    },
    {
      "cell_type": "code",
      "source": [],
      "metadata": {
        "id": "7HWPEeGTS5ZV"
      },
      "execution_count": 7,
      "outputs": []
    },
    {
      "cell_type": "markdown",
      "source": [
        "###3. Coleta dos cálculos estatísticos disponíveis: MEAN, STDDEV, CORRELATION"
      ],
      "metadata": {
        "id": "ROqiBnNySyDV"
      }
    },
    {
      "cell_type": "code",
      "source": [],
      "metadata": {
        "id": "ZYVgYmwqS2cX"
      },
      "execution_count": 7,
      "outputs": []
    },
    {
      "cell_type": "markdown",
      "source": [
        "###4. Montagem de um DataFrame com os campos estatísticos e a classe associada (ganhador ou perdedor)\n"
      ],
      "metadata": {
        "id": "DJIfzLFdJtF3"
      }
    },
    {
      "cell_type": "code",
      "source": [],
      "metadata": {
        "id": "UH9xnWS4JpUh"
      },
      "execution_count": 7,
      "outputs": []
    },
    {
      "cell_type": "markdown",
      "source": [
        "###5. Normalização dos dados e separação treino/teste\n"
      ],
      "metadata": {
        "id": "uPz7yrL_JpvY"
      }
    },
    {
      "cell_type": "code",
      "source": [],
      "metadata": {
        "id": "zo0tXmLVJ1MC"
      },
      "execution_count": 7,
      "outputs": []
    },
    {
      "cell_type": "markdown",
      "source": [
        "###6. Treinamento com algoritmo Naive Bayes (GaussianNB) para prever a classe com base nos indicadores estatísticos"
      ],
      "metadata": {
        "id": "Rdt3W-gDJ77E"
      }
    },
    {
      "cell_type": "code",
      "source": [],
      "metadata": {
        "id": "40bcizglKHEx"
      },
      "execution_count": 7,
      "outputs": []
    },
    {
      "cell_type": "markdown",
      "source": [
        "###7. Avaliação do modelo com classification_report, confusion_matrix e accuracy_score\n"
      ],
      "metadata": {
        "id": "u0avVczGKHe8"
      }
    },
    {
      "cell_type": "code",
      "source": [],
      "metadata": {
        "id": "oZYbt7dnKPPM"
      },
      "execution_count": 7,
      "outputs": []
    },
    {
      "cell_type": "markdown",
      "source": [
        "###8. Visualizações: boxplots, distribuição de médias, gráfico de dispersão com STDDEV e CORRELATION\n"
      ],
      "metadata": {
        "id": "p6tk4As_KP2O"
      }
    },
    {
      "cell_type": "code",
      "source": [],
      "metadata": {
        "id": "r6nMiRfdKUbv"
      },
      "execution_count": 7,
      "outputs": []
    },
    {
      "cell_type": "markdown",
      "source": [
        "###9. Exportação do dataset final para .csv"
      ],
      "metadata": {
        "id": "HoAaHyRXKZCJ"
      }
    },
    {
      "cell_type": "code",
      "source": [],
      "metadata": {
        "id": "OtzdNxeEKd-y"
      },
      "execution_count": 7,
      "outputs": []
    },
    {
      "cell_type": "markdown",
      "source": [
        "###10. Conclusão com recomendações: quais padrões indicam comportamento de ganhador ou perdedor?"
      ],
      "metadata": {
        "id": "MhnPM2u7Kh37"
      }
    },
    {
      "cell_type": "code",
      "source": [],
      "metadata": {
        "id": "bGc0Irb2KmIQ"
      },
      "execution_count": 7,
      "outputs": []
    }
  ]
}